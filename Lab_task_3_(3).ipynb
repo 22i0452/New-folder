{
  "nbformat": 4,
  "nbformat_minor": 0,
  "metadata": {
    "colab": {
      "provenance": []
    },
    "kernelspec": {
      "name": "python3",
      "display_name": "Python 3"
    },
    "language_info": {
      "name": "python"
    }
  },
  "cells": [
    {
      "cell_type": "markdown",
      "source": [
        "# Lab Task 01"
      ],
      "metadata": {
        "id": "DR3RvooloecS"
      }
    },
    {
      "cell_type": "markdown",
      "source": [
        "Reshape a 1D NumPy array into a 2D array with dimensions (3, 4).\n",
        "\n",
        "Concatenate two NumPy arrays horizontally and vertically."
      ],
      "metadata": {
        "id": "Oi-yFvItoWzc"
      }
    },
    {
      "cell_type": "code",
      "source": [
        "import numpy as np\n",
        "\n",
        "arr_1d = np.arange(12)  # Example 1D array\n",
        "arr_2d = arr_1d.reshape(3, 4)\n",
        "\n",
        "arr1 = np.array([1, 2, 3])\n",
        "arr2 = np.array([4, 5, 6])\n",
        "\n",
        "arr_h = np.concatenate((arr1, arr2))\n",
        "arr_v = np.concatenate((arr1.reshape(-1, 1), arr2.reshape(-1, 1)), axis=1)\n",
        "\n",
        "print(arr_2d)\n",
        "print(arr_h)\n",
        "print(arr_v)"
      ],
      "metadata": {
        "id": "c379PMYOobDK",
        "colab": {
          "base_uri": "https://localhost:8080/"
        },
        "outputId": "34ff2f00-8484-4b28-ee08-4708b73d356d"
      },
      "execution_count": 7,
      "outputs": [
        {
          "output_type": "stream",
          "name": "stdout",
          "text": [
            "[[ 0  1  2  3]\n",
            " [ 4  5  6  7]\n",
            " [ 8  9 10 11]]\n",
            "[1 2 3 4 5 6]\n",
            "[[1 4]\n",
            " [2 5]\n",
            " [3 6]]\n"
          ]
        }
      ]
    },
    {
      "cell_type": "markdown",
      "source": [
        "# Lab Task 02"
      ],
      "metadata": {
        "id": "Dv9DtQ3jp6mq"
      }
    },
    {
      "cell_type": "markdown",
      "source": [
        "\n",
        "## Email Classification\n",
        "Develope a tool which will classify an email.\n",
        "\n",
        "### Tasks:\n",
        "* Create a function classify_emails that takes a list of emails as an argument.\n",
        "* Inside the function, categorize emails into \"Important,\" \"Promotions,\" and \"Spam\" based on keywords and content analysis.\n",
        "* Loop through the emails and identify keywords to determine their category.\n",
        "* If an email contains keywords indicating importance, assign it as \"Important.\"\n",
        "* If an email contains keywords related to promotions or deals, assign it as \"Promotions.\"\n",
        "* If an email is suspected to be spam based on certain keywords or patterns, assign it as \"Spam.\"\n",
        "* Return three lists of emails for each category.\n",
        "* Print the lists."
      ],
      "metadata": {
        "id": "2i6-zm_1ZAdn"
      }
    },
    {
      "cell_type": "code",
      "source": [
        "emails = [\n",
        "    \"Limited Time Sale: Get 50% OFF Now!\",\n",
        "    \"Urgent: Update Your Account Information\",\n",
        "    \"You've Won a Free Trip! Claim Now\",\n",
        "    \"Important: Meeting Rescheduled to 10am\",\n",
        "    \"Exclusive Deal: Members Only Discount\"\n",
        "]\n",
        "\n",
        "important_emails = []\n",
        "promotions_emails = []\n",
        "spam_emails = []\n",
        "\n",
        "important_keywords = ['urgent', 'immediate', 'attention', 'important']\n",
        "promotions_keywords = ['sale', 'deal', 'discount', 'exclusive']\n",
        "spam_keywords = ['win', 'prize', 'offer', 'free']\n",
        "\n",
        "def classify_email(email, important_keywords, promotions_keywords, spam_keywords):\n",
        "    email_lower = email.lower()\n",
        "\n",
        "    for keyword in important_keywords:\n",
        "        if keyword in email_lower:\n",
        "            return 'important'\n",
        "\n",
        "    for keyword in promotions_keywords:\n",
        "        if keyword in email_lower:\n",
        "            return 'promotions'\n",
        "\n",
        "    for keyword in spam_keywords:\n",
        "        if keyword in email_lower:\n",
        "            return 'spam'\n",
        "\n",
        "    return 'spam'\n",
        "\n",
        "for email in emails:\n",
        "    classification = classify_email(email, important_keywords, promotions_keywords, spam_keywords)\n",
        "    if classification == 'important':\n",
        "        important_emails.append(email)\n",
        "    elif classification == 'promotions':\n",
        "        promotions_emails.append(email)\n",
        "    elif classification == 'spam':\n",
        "        spam_emails.append(email)\n",
        "\n",
        "print(\"Important Emails:\", important_emails)\n",
        "print(\"Promotions Emails:\", promotions_emails)\n",
        "print(\"Spam Emails:\", spam_emails)\n"
      ],
      "metadata": {
        "id": "SnCGPkq-o84Z",
        "colab": {
          "base_uri": "https://localhost:8080/"
        },
        "outputId": "2a1c8cfb-516a-42bb-db51-dbc4be02b6f0"
      },
      "execution_count": 11,
      "outputs": [
        {
          "output_type": "stream",
          "name": "stdout",
          "text": [
            "Important Emails: ['Urgent: Update Your Account Information', 'Important: Meeting Rescheduled to 10am']\n",
            "Promotions Emails: ['Limited Time Sale: Get 50% OFF Now!', 'Exclusive Deal: Members Only Discount']\n",
            "Spam Emails: [\"You've Won a Free Trip! Claim Now\"]\n"
          ]
        }
      ]
    },
    {
      "cell_type": "markdown",
      "source": [
        "# Lab Task 03"
      ],
      "metadata": {
        "id": "amtV-GLWpCC7"
      }
    },
    {
      "cell_type": "markdown",
      "source": [
        "## English-Spanish Dictionary\n",
        "You are creating a basic English-Spanish dictionary that allows users to look up English words and find their Spanish translations.\n",
        "\n",
        "\n",
        "### Tasks\n",
        "* Create a dictionary where English words are keys and their Spanish translations are values.\n",
        "* Ask the user to input an English word.\n",
        "* Check if the word exists in the dictionary.\n",
        "* If the word exists, print its Spanish translation.\n",
        "* If the word does not exist, inform the user that the translation is not available.\n",
        "* Implement a loop that allows the user to keep looking up words until they choose to exit.\n"
      ],
      "metadata": {
        "id": "M2Zg-XsUpC72"
      }
    },
    {
      "cell_type": "code",
      "source": [
        "dict_en_es = {\"hello\": \"hola\", \"hi\": \"hola\"}\n",
        "\n",
        "def find_translation(d):\n",
        "    while True:\n",
        "        word = input(\"Enter word to translate or exit to quit : \").lower()\n",
        "\n",
        "        if word == 'exit':\n",
        "            print(\"Exiting\")\n",
        "            break\n",
        "\n",
        "        if word in d:\n",
        "            print(f\"Translation : '{d[word]}'\")\n",
        "        else:\n",
        "            print(\"Not found\")\n",
        "\n",
        "find_translation(dict_en_es)\n",
        "\n"
      ],
      "metadata": {
        "id": "7RKtYbMZpJdh",
        "colab": {
          "base_uri": "https://localhost:8080/"
        },
        "outputId": "58b55bd5-66ac-48ad-fe88-c550a4f7f42d"
      },
      "execution_count": 13,
      "outputs": [
        {
          "output_type": "stream",
          "name": "stdout",
          "text": [
            "Enter word to translate or exit to quit : hello\n",
            "Translation : 'hola'\n",
            "Enter word to translate or exit to quit : hi\n",
            "Translation : 'hola'\n",
            "Enter word to translate or exit to quit : exit\n",
            "Exiting\n"
          ]
        }
      ]
    },
    {
      "cell_type": "markdown",
      "source": [
        "# Lab Task 04"
      ],
      "metadata": {
        "id": "h_8wOMWitspv"
      }
    },
    {
      "cell_type": "markdown",
      "source": [
        "dataset link : https://raw.githubusercontent.com/TirendazAcademy/PANDAS-TUTORIAL/main/DataSets/vgsalesGlobale.csv\n",
        "#Exercise\n",
        "Use the dataset of Game, we have explored earlier and perform following operations.\n",
        "\n",
        "* Calculate the total global sales for all games in the dataset.\n",
        "* Find the game with the highest global sales.\n",
        "* Determine the average sales for each region (NA_Sales, EU_Sales, JP_Sales, Other_Sales).\n",
        "* Find the top 5 most popular game genres based on global sales.\n",
        "* Calculate the total sales for each genre in each region and find the most popular genre in North America (NA_Sales).\n",
        "* Display last 10 rows.\n",
        "* Determine the top 3 gaming platforms with the highest global sales.\n",
        "* Calculate the market share (percentage of global sales) for each genre.\n",
        "* Calculate the correlation coefficient between NA_Sales and EU_Sales. (.corr function)"
      ],
      "metadata": {
        "id": "Qq4VH1Jkts32"
      }
    },
    {
      "cell_type": "markdown",
      "source": [
        "Some tree example"
      ],
      "metadata": {
        "id": "b9WEL8JcZFfY"
      }
    },
    {
      "cell_type": "code",
      "source": [
        "import pandas as pd\n",
        "\n",
        "data = {\n",
        "    \"Name\": [\"A\", \"B\"],\n",
        "    \"Platform\": [\"PS3\", \"PS5\"],\n",
        "    \"Genre\": [\"Adv\", \"horror\"],\n",
        "    \"NA\": [3.0, 8.5],\n",
        "    \"EU\": [5.0, 2.2, ],\n",
        "    \"JP\": [1.5, 2.3,],\n",
        "    \"Other\": [2.0, 1.8],\n",
        "    \"Global\": [5.5, 2.1]\n",
        "}\n",
        "games = pd.DataFrame(data)\n",
        "\n",
        "# Total global sales\n",
        "total_global = games['Global'].sum()\n",
        "\n",
        "# Highest global sales\n",
        "max_global_game = games.loc[games['Global'].idxmax()]\n",
        "\n",
        "# Avg sales per region\n",
        "avg_region = games[['NA', 'EU', 'JP', 'Other']].mean()\n",
        "\n",
        "# Top 5 genres by gs\n",
        "top_genres = games.groupby('Genre')['Global'].sum().nlargest(5)\n",
        "\n",
        "# Total sales per genre in each region and most popular in NA\n",
        "genre_sales = games.groupby('Genre')[['NA', 'EU', 'JP', 'Other']].sum()\n",
        "top_genre_na = genre_sales['NA'].idxmax()\n",
        "\n",
        "# Last rows\n",
        "last_rows = games.tail()\n",
        "\n",
        "# Top 3 platforms by gs\n",
        "top_platforms = games.groupby('Platform')['Global'].sum().nlargest(3)\n",
        "\n",
        "# Market share\n",
        "genre_share = games.groupby('Genre')['Global'].sum() / total_global * 100\n",
        "\n",
        "# Correlation\n",
        "corr_na_eu = games[['NA', 'EU']].corr()\n",
        "\n",
        "print(f\"Total Global Sales : {total_global}\")\n",
        "print(f\"Game with Highest Global Sales : {max_global_game['Name']}\")\n",
        "print(f\"Average Sales per Region : {avg_region}\")\n",
        "print(f\"Top 5 Genres by Global Sales : {top_genres}\")\n",
        "print(f\"Most Popular Genre in NA : {top_genre_na}\")\n",
        "print(\"Last Rows Displayed :\")\n",
        "print(last_rows)\n",
        "print(f\"Top 3 Platforms by Global Sales : {top_platforms}\")\n",
        "print(f\"Market Share : {genre_share}\")\n",
        "print(f\"Correlation : {corr_na_eu}\")\n"
      ],
      "metadata": {
        "colab": {
          "base_uri": "https://localhost:8080/"
        },
        "id": "T4Dk6DF3BBl8",
        "outputId": "e3983399-f13b-4cfb-f6b5-ef2b7a738eea"
      },
      "execution_count": 15,
      "outputs": [
        {
          "output_type": "stream",
          "name": "stdout",
          "text": [
            "Total Global Sales : 7.6\n",
            "Game with Highest Global Sales : A\n",
            "Average Sales per Region : NA       5.75\n",
            "EU       3.60\n",
            "JP       1.90\n",
            "Other    1.90\n",
            "dtype: float64\n",
            "Top 5 Genres by Global Sales : Genre\n",
            "Adv       5.5\n",
            "horror    2.1\n",
            "Name: Global, dtype: float64\n",
            "Most Popular Genre in NA : horror\n",
            "Last Rows Displayed :\n",
            "  Name Platform   Genre   NA   EU   JP  Other  Global\n",
            "0    A      PS3     Adv  3.0  5.0  1.5    2.0     5.5\n",
            "1    B      PS5  horror  8.5  2.2  2.3    1.8     2.1\n",
            "Top 3 Platforms by Global Sales : Platform\n",
            "PS3    5.5\n",
            "PS5    2.1\n",
            "Name: Global, dtype: float64\n",
            "Market Share : Genre\n",
            "Adv       72.368421\n",
            "horror    27.631579\n",
            "Name: Global, dtype: float64\n",
            "Correlation :      NA   EU\n",
            "NA  1.0 -1.0\n",
            "EU -1.0  1.0\n"
          ]
        }
      ]
    },
    {
      "cell_type": "code",
      "source": [
        "# import pandas as pd\n",
        "\n",
        "# # Create a DataFrame to represent a tree\n",
        "# data = {\n",
        "#     'node': ['A', 'B', 'C', 'D', 'E', 'F'],\n",
        "#     'parent': [None, 'A', 'A', 'B', 'B', 'C']\n",
        "# }\n",
        "# df = pd.DataFrame(data)\n",
        "\n",
        "# print(df)\n"
      ],
      "metadata": {
        "id": "re3_ijh12uCi"
      },
      "execution_count": null,
      "outputs": []
    },
    {
      "cell_type": "code",
      "source": [
        "# pip install networkx\n"
      ],
      "metadata": {
        "id": "4eYXGm0c2yAl"
      },
      "execution_count": null,
      "outputs": []
    },
    {
      "cell_type": "code",
      "source": [
        "# import pandas as pd\n",
        "# import networkx as nx\n",
        "# import matplotlib.pyplot as plt\n",
        "\n",
        "# # Create a DataFrame representing edges in a graph\n",
        "# data = {\n",
        "#     'from': ['A', 'A', 'B', 'C', 'D'],\n",
        "#     'to': ['B', 'C', 'D', 'E', 'E']\n",
        "# }\n",
        "# edges = pd.DataFrame(data)\n",
        "\n",
        "# # Create a graph from the edges DataFrame\n",
        "# G = nx.from_pandas_edgelist(edges, 'from', 'to')\n",
        "\n",
        "# # Draw the graph\n",
        "# nx.draw(G, with_labels=True)\n",
        "# plt.show()\n",
        "\n",
        "# # Analyze the graph\n",
        "# print(\"Nodes:\", G.nodes())\n",
        "# print(\"Edges:\", G.edges())\n",
        "# print(\"Degree for each Node:\", dict(G.degree()))\n"
      ],
      "metadata": {
        "id": "QBd8dZTF224G"
      },
      "execution_count": null,
      "outputs": []
    }
  ]
}